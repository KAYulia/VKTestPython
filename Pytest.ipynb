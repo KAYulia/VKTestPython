{
 "cells": [
  {
   "cell_type": "code",
   "execution_count": 1,
   "id": "3ef453db-91a8-4f34-a4c0-e7e220a72cca",
   "metadata": {},
   "outputs": [],
   "source": [
    "import pytest\n",
    "import math"
   ]
  },
  {
   "cell_type": "markdown",
   "id": "05b67b4e-c727-43aa-80e9-9ffbea16cf64",
   "metadata": {},
   "source": [
    "## Тест структуры list. На вход подается list с числами. Тест проверяет, являются ли все числа в list числами Фибоначчи"
   ]
  },
  {
   "cell_type": "code",
   "execution_count": 2,
   "id": "533a275a-b6e0-4597-a9ab-466d0072c616",
   "metadata": {},
   "outputs": [],
   "source": [
    "@pytest.mark.parametrize(\"testList\", [([1,2,3,5,8])])\n",
    "def fibonacciTest(testList):\n",
    "    for element in testList:\n",
    "        a = 5*element*element + 4\n",
    "        b = 5*element*element - 4\n",
    "        sqrta = int(math.sqrt(a))\n",
    "        aqrtb = int(math.sqrt(b))\n",
    "        a_is_sqr = ((sqrta*sqrta) == a)\n",
    "        b_is_sqr = ((aqrtb*aqrtb) == b)\n",
    "        assert (a_is_sqr or b_is_sqr)"
   ]
  },
  {
   "cell_type": "code",
   "execution_count": 3,
   "id": "be995269-6026-44b3-ab02-775fab3e82ce",
   "metadata": {},
   "outputs": [],
   "source": [
    "fibonacciTest([1,2,3,8,13])"
   ]
  },
  {
   "cell_type": "markdown",
   "id": "77c6bb18-3ec1-4c08-8df0-e7303bdc8647",
   "metadata": {},
   "source": [
    "## Тест структуры Dict. Проверяем, что каждому числовому значению соответствует ключ \"ЭТО ЧИСЛО\""
   ]
  },
  {
   "cell_type": "code",
   "execution_count": 4,
   "id": "6c30ce2f-ade2-46a5-8266-d48940092f03",
   "metadata": {},
   "outputs": [],
   "source": [
    "def DTest(testDict):\n",
    "    for key in testDict.keys():\n",
    "        if isinstance(key, int):\n",
    "            assert (testDict.get(key) == \"ЭТО INT\")"
   ]
  },
  {
   "cell_type": "code",
   "execution_count": 5,
   "id": "05f353a2-689a-410b-a509-6a683a24a639",
   "metadata": {},
   "outputs": [],
   "source": [
    "DTest({1: 'ЭТО INT', '3': 'ЭТО INT', 3: 'ЭТО INT'})"
   ]
  },
  {
   "cell_type": "markdown",
   "id": "94696859-78dd-42a9-b37b-f5c95fd6bb95",
   "metadata": {},
   "source": [
    "## Валидный тест, ожидаемое поведение. Тестируем, что idx-ный элемент массива будет равен 5, обрабатываем Index Out Of Range"
   ]
  },
  {
   "cell_type": "code",
   "execution_count": 6,
   "id": "d8fdf117-9cf1-423c-917a-fd82b30c9236",
   "metadata": {},
   "outputs": [],
   "source": [
    "def lenTest(testList, idx):\n",
    "    try:\n",
    "        assert testList[idx] == 5\n",
    "    except IndexError:\n",
    "        pass"
   ]
  },
  {
   "cell_type": "code",
   "execution_count": 7,
   "id": "17f384e0-698d-4d20-a646-225e42b32a5a",
   "metadata": {},
   "outputs": [],
   "source": [
    "arr = [1,2,3]"
   ]
  },
  {
   "cell_type": "code",
   "execution_count": 8,
   "id": "5ac04aa4-9601-4f2c-a8e0-0fd67fc945e5",
   "metadata": {},
   "outputs": [],
   "source": [
    "lenTest(arr, 5)"
   ]
  },
  {
   "cell_type": "code",
   "execution_count": null,
   "id": "33a7ea17-c8b9-4cae-80ee-0e8e8041995f",
   "metadata": {},
   "outputs": [],
   "source": []
  }
 ],
 "metadata": {
  "kernelspec": {
   "display_name": "Python 3 (ipykernel)",
   "language": "python",
   "name": "python3"
  },
  "language_info": {
   "codemirror_mode": {
    "name": "ipython",
    "version": 3
   },
   "file_extension": ".py",
   "mimetype": "text/x-python",
   "name": "python",
   "nbconvert_exporter": "python",
   "pygments_lexer": "ipython3",
   "version": "3.8.12"
  }
 },
 "nbformat": 4,
 "nbformat_minor": 5
}
